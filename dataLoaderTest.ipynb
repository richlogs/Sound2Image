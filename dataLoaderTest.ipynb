{
 "cells": [
  {
   "cell_type": "code",
   "execution_count": 1,
   "metadata": {},
   "outputs": [],
   "source": [
    "import glob\n",
    "\n",
    "import torch\n",
    "import torchvision\n",
    "import torchvision.transforms as T\n",
    "from torch.utils.data import DataLoader, Dataset\n",
    "\n",
    "from PIL import Image"
   ]
  },
  {
   "cell_type": "code",
   "execution_count": 2,
   "metadata": {},
   "outputs": [],
   "source": [
    "img_size = 64\n",
    "num_workers = 10\n",
    "batch_size = 1\n",
    "train_transforms = torchvision.transforms.Compose([\n",
    "     T.Resize(img_size + int(.25*img_size)),  # args.img_size + 1/4 *args.img_size\n",
    "     T.RandomResizedCrop(img_size, scale=(0.8, 1.0)),\n",
    "     T.ToTensor(),\n",
    "     T.Normalize((0.5, 0.5, 0.5), (0.5, 0.5, 0.5)),\n",
    " ])"
   ]
  },
  {
   "cell_type": "code",
   "execution_count": 3,
   "metadata": {},
   "outputs": [],
   "source": [
    "# Custom Dataloader\n",
    "## This dataloader processes images the same way that the torch dataloader does; however, one of them reads images in, in a different order\n",
    "## To demonstrate the equivilance run with the trial image path\n",
    "\n",
    "class CustomDataset(Dataset):\n",
    "    def __init__(self, transform=None):\n",
    "        self.transform = transform\n",
    "        self.imgs_path = \"/Users/richardkyle/Documents/University/current/AIML589/Data/SubURMP64/images/clean/trial/\" # Set image path e.g. trial for demonstration, train for application\n",
    "        file_list = glob.glob(self.imgs_path + \"*\")\n",
    "        #print(file_list)\n",
    "        self.data = []\n",
    "        for class_path in file_list:\n",
    "            class_name = class_path.split(\"/\")[-1]\n",
    "            for img_path in glob.glob(class_path + \"/*.jpg\"):\n",
    "                self.data.append([img_path, class_name])\n",
    "        #print(self.data)\n",
    "        #self.class_map = {\"dogs\" : 0, \"cats\": 1}\n",
    "        self.img_dim = (64, 64)\n",
    "    def __len__(self):\n",
    "        return len(self.data)\n",
    "    def __getitem__(self, idx):\n",
    "        img_path, class_name = self.data[idx]\n",
    "        img = Image.open(img_path)\n",
    "        img = img.convert(\"RGB\")\n",
    "        img_path = img_path.split(\"/\")[-1]\n",
    "\n",
    "        if self.transform:\n",
    "            img = self.transform(img)\n",
    "\n",
    "        return img, img_path"
   ]
  },
  {
   "cell_type": "code",
   "execution_count": 20,
   "metadata": {},
   "outputs": [
    {
     "name": "stdout",
     "output_type": "stream",
     "text": [
      "cello00_5800.jpg\n",
      "bassoon00_22700.jpg\n"
     ]
    }
   ],
   "source": [
    "# This code extracts all images and there associated labels. Use label information to read in embeddings into the main Diffusion model script\n",
    "dataset = CustomDataset(transform=train_transforms)\n",
    "data_loader = DataLoader(dataset, batch_size=batch_size, shuffle=False)\n",
    "\n",
    "imgsList = []\n",
    "labsList = []\n",
    "for i, (imgs, labs) in enumerate(data_loader):\n",
    "    print(labs[0])\n",
    "    "
   ]
  },
  {
   "cell_type": "code",
   "execution_count": null,
   "metadata": {},
   "outputs": [],
   "source": []
  },
  {
   "attachments": {},
   "cell_type": "markdown",
   "metadata": {},
   "source": [
    "## Original Code "
   ]
  },
  {
   "cell_type": "code",
   "execution_count": 17,
   "metadata": {},
   "outputs": [
    {
     "name": "stdout",
     "output_type": "stream",
     "text": [
      "tensor([[[[-0.7647, -0.8510, -0.7804,  ..., -0.3412, -0.7176, -0.8745],\n",
      "          [-0.7647, -0.8431, -0.7725,  ..., -0.5765, -0.7255, -0.8980],\n",
      "          [-0.7569, -0.8353, -0.7569,  ..., -0.6941, -0.7333, -0.9059],\n",
      "          ...,\n",
      "          [-0.9686, -0.9686, -0.9765,  ..., -0.9529, -0.9294, -0.9529],\n",
      "          [-0.9765, -0.9765, -0.9843,  ..., -0.9451, -0.9294, -0.9529],\n",
      "          [-0.9765, -0.9843, -0.9843,  ..., -0.9451, -0.9373, -0.9608]],\n",
      "\n",
      "         [[-0.7333, -0.7961, -0.7255,  ..., -0.3804, -0.6784, -0.7961],\n",
      "          [-0.7333, -0.7882, -0.7176,  ..., -0.6157, -0.7020, -0.8196],\n",
      "          [-0.7255, -0.7804, -0.7020,  ..., -0.7333, -0.7255, -0.8353],\n",
      "          ...,\n",
      "          [-0.9137, -0.9373, -0.9529,  ..., -0.9529, -0.9373, -0.9608],\n",
      "          [-0.9059, -0.9294, -0.9451,  ..., -0.9529, -0.9529, -0.9765],\n",
      "          [-0.8980, -0.9216, -0.9451,  ..., -0.9608, -0.9608, -0.9843]],\n",
      "\n",
      "         [[ 0.3176,  0.2471,  0.3176,  ..., -0.1373,  0.0039,  0.3333],\n",
      "          [ 0.3255,  0.2549,  0.3255,  ..., -0.2078,  0.0510,  0.2157],\n",
      "          [ 0.3412,  0.2706,  0.3412,  ..., -0.1059,  0.0980,  0.0745],\n",
      "          ...,\n",
      "          [-0.4667, -0.4902, -0.5216,  ..., -0.5843, -0.5294, -0.5216],\n",
      "          [-0.4510, -0.4824, -0.5137,  ..., -0.5922, -0.5373, -0.5373],\n",
      "          [-0.4353, -0.4745, -0.5059,  ..., -0.5922, -0.5451, -0.5451]]]])\n",
      "tensor([[[[-0.7647, -0.7882, -0.8667,  ..., -0.6784, -0.6863, -0.7882],\n",
      "          [-0.7490, -0.7725, -0.8588,  ..., -0.6784, -0.6784, -0.7882],\n",
      "          [-0.7333, -0.7490, -0.8431,  ..., -0.6706, -0.6706, -0.7882],\n",
      "          ...,\n",
      "          [-0.9294, -0.9294, -0.9451,  ..., -0.9373, -0.9216, -0.9373],\n",
      "          [-0.8902, -0.8980, -0.9137,  ..., -0.9059, -0.9059, -0.9216],\n",
      "          [-0.8588, -0.8745, -0.8902,  ..., -0.8510, -0.8588, -0.8902]],\n",
      "\n",
      "         [[-0.6235, -0.6627, -0.7333,  ..., -0.5765, -0.5843, -0.7020],\n",
      "          [-0.6157, -0.6392, -0.7255,  ..., -0.5765, -0.5765, -0.7020],\n",
      "          [-0.6078, -0.6235, -0.7176,  ..., -0.5686, -0.5686, -0.6941],\n",
      "          ...,\n",
      "          [-0.9922, -0.9843, -0.9765,  ..., -0.9608, -0.9373, -0.9216],\n",
      "          [-0.9686, -0.9686, -0.9529,  ..., -0.9373, -0.9137, -0.9216],\n",
      "          [-0.9451, -0.9451, -0.9294,  ..., -0.8902, -0.8745, -0.8902]],\n",
      "\n",
      "         [[ 0.3882,  0.3961,  0.3882,  ...,  0.4510,  0.4196,  0.2863],\n",
      "          [ 0.3961,  0.4118,  0.3725,  ...,  0.4510,  0.4196,  0.2706],\n",
      "          [ 0.4118,  0.4275,  0.3804,  ...,  0.4510,  0.4196,  0.2549],\n",
      "          ...,\n",
      "          [-0.8275, -0.8275, -0.8275,  ..., -0.8118, -0.7569, -0.7255],\n",
      "          [-0.8588, -0.8510, -0.8510,  ..., -0.8667, -0.8275, -0.7961],\n",
      "          [-0.8745, -0.8745, -0.8667,  ..., -0.8667, -0.8353, -0.8275]]]])\n"
     ]
    }
   ],
   "source": [
    "# This code calls the default dataloader \n",
    "train_dataset = torchvision.datasets.ImageFolder('/Users/richardkyle/Documents/University/current/AIML589/Data/SubURMP64/images/clean/trial', transform=train_transforms)\n",
    "train_dataloader = DataLoader(train_dataset, batch_size=batch_size, shuffle=False)\n",
    "imgsListOriginal = []\n",
    "labsListOriginal = []\n",
    "for imgs, labs in train_dataloader:\n",
    "    print(imgs)"
   ]
  },
  {
   "cell_type": "code",
   "execution_count": 11,
   "metadata": {},
   "outputs": [
    {
     "data": {
      "text/plain": [
       "tensor([0])"
      ]
     },
     "execution_count": 11,
     "metadata": {},
     "output_type": "execute_result"
    }
   ],
   "source": [
    "labsListOriginal[0]"
   ]
  },
  {
   "attachments": {},
   "cell_type": "markdown",
   "metadata": {},
   "source": [
    "### visualising"
   ]
  },
  {
   "cell_type": "code",
   "execution_count": 6,
   "metadata": {},
   "outputs": [
    {
     "data": {
      "image/png": "[encoded data removed]",
      "text/plain": [
       "<PIL.Image.Image image mode=RGB size=64x64 at 0x7FAF399F2910>"
      ]
     },
     "execution_count": 6,
     "metadata": {},
     "output_type": "execute_result"
    }
   ],
   "source": [
    "# Visualise image from custom dataloader\n",
    "tran = T.ToPILImage()\n",
    "imgsz = torch.squeeze(imgsList[0], 0)\n",
    "imgsz = tran(imgsz)\n",
    "imgsz"
   ]
  },
  {
   "cell_type": "code",
   "execution_count": 7,
   "metadata": {},
   "outputs": [
    {
     "data": {
      "image/png": "[encoded data removed]",
      "text/plain": [
       "<PIL.Image.Image image mode=RGB size=64x64 at 0x7FAF39A72FD0>"
      ]
     },
     "execution_count": 7,
     "metadata": {},
     "output_type": "execute_result"
    }
   ],
   "source": [
    "# Visualise image from default dataloader\n",
    "tran = T.ToPILImage()\n",
    "imgsz = torch.squeeze(imgsListOriginal[-1], 0)\n",
    "imgsz = tran(imgsz)\n",
    "imgsz"
   ]
  },
  {
   "cell_type": "code",
   "execution_count": 18,
   "metadata": {},
   "outputs": [
    {
     "data": {
      "text/plain": [
       "tensor([[[[-0.6784, -0.6235, -0.6235,  ..., -0.4118, -0.7647, -0.8824],\n",
       "          [-0.7020, -0.6235, -0.6235,  ..., -0.5843, -0.7569, -0.9137],\n",
       "          [-0.7255, -0.6392, -0.6235,  ..., -0.6784, -0.7490, -0.9216],\n",
       "          ...,\n",
       "          [-0.9294, -0.9529, -0.9608,  ..., -0.9529, -0.9294, -0.9529],\n",
       "          [-0.9294, -0.9451, -0.9529,  ..., -0.9529, -0.9294, -0.9529],\n",
       "          [-0.9294, -0.9451, -0.9608,  ..., -0.9529, -0.9294, -0.9529]],\n",
       "\n",
       "         [[-0.5686, -0.5059, -0.4980,  ..., -0.4275, -0.7176, -0.8039],\n",
       "          [-0.5922, -0.5137, -0.5059,  ..., -0.6078, -0.7176, -0.8275],\n",
       "          [-0.6157, -0.5216, -0.5059,  ..., -0.7176, -0.7255, -0.8431],\n",
       "          ...,\n",
       "          [-0.9137, -0.9059, -0.8902,  ..., -0.9451, -0.9294, -0.9529],\n",
       "          [-0.9137, -0.9059, -0.8824,  ..., -0.9451, -0.9294, -0.9529],\n",
       "          [-0.9216, -0.9137, -0.8980,  ..., -0.9451, -0.9373, -0.9608]],\n",
       "\n",
       "         [[ 0.5843,  0.7176,  0.7961,  ..., -0.1137,  0.0353,  0.3569],\n",
       "          [ 0.5608,  0.7098,  0.7882,  ..., -0.1608,  0.0667,  0.2392],\n",
       "          [ 0.5294,  0.6941,  0.7725,  ..., -0.0667,  0.1059,  0.0745],\n",
       "          ...,\n",
       "          [-0.4588, -0.4275, -0.3961,  ..., -0.5608, -0.5137, -0.5137],\n",
       "          [-0.4667, -0.4353, -0.4039,  ..., -0.5686, -0.5216, -0.5137],\n",
       "          [-0.4902, -0.4588, -0.4353,  ..., -0.5686, -0.5216, -0.5216]]]])"
      ]
     },
     "execution_count": 18,
     "metadata": {},
     "output_type": "execute_result"
    }
   ],
   "source": [
    "# See numeric representation of custom dataloader for image i\n",
    "imgsList[-1]"
   ]
  },
  {
   "cell_type": "code",
   "execution_count": 19,
   "metadata": {},
   "outputs": [
    {
     "data": {
      "text/plain": [
       "tensor([[[[-0.9059, -0.8902, -0.7569,  ..., -0.5373, -0.1765, -0.1765],\n",
       "          [-0.9059, -0.8980, -0.7804,  ..., -0.7333, -0.6471, -0.5608],\n",
       "          [-0.8980, -0.9137, -0.8118,  ..., -0.8275, -0.8431, -0.7255],\n",
       "          ...,\n",
       "          [-0.9608, -0.9294, -0.9216,  ..., -0.9529, -0.9686, -0.9608],\n",
       "          [-0.9608, -0.9373, -0.9294,  ..., -0.9373, -0.9529, -0.9529],\n",
       "          [-0.9608, -0.9373, -0.9294,  ..., -0.9373, -0.9529, -0.9529]],\n",
       "\n",
       "         [[-0.8431, -0.7882, -0.6549,  ..., -0.6941, -0.3176, -0.2471],\n",
       "          [-0.8431, -0.8118, -0.6784,  ..., -0.8510, -0.7647, -0.6314],\n",
       "          [-0.8353, -0.8275, -0.7098,  ..., -0.9059, -0.9059, -0.7882],\n",
       "          ...,\n",
       "          [-0.9608, -0.9451, -0.9294,  ..., -0.9294, -0.9529, -0.9608],\n",
       "          [-0.9529, -0.9529, -0.9373,  ..., -0.9216, -0.9451, -0.9608],\n",
       "          [-0.9529, -0.9529, -0.9373,  ..., -0.9216, -0.9451, -0.9608]],\n",
       "\n",
       "         [[ 0.2078,  0.2784,  0.4588,  ..., -0.4902, -0.3176, -0.1686],\n",
       "          [ 0.2078,  0.2627,  0.4353,  ..., -0.7020, -0.6627, -0.3725],\n",
       "          [ 0.2157,  0.2392,  0.3961,  ..., -0.7961, -0.6549, -0.2706],\n",
       "          ...,\n",
       "          [-0.5373, -0.5529, -0.5373,  ..., -0.6784, -0.6627, -0.6235],\n",
       "          [-0.5529, -0.5608, -0.5451,  ..., -0.6784, -0.6627, -0.6235],\n",
       "          [-0.5529, -0.5608, -0.5529,  ..., -0.6863, -0.6627, -0.6314]]]])"
      ]
     },
     "execution_count": 19,
     "metadata": {},
     "output_type": "execute_result"
    }
   ],
   "source": [
    "# See numeric representation of default dataloader for image i\n",
    "imgsListOriginal[0]"
   ]
  }
 ],
 "metadata": {
  "kernelspec": {
   "display_name": "base",
   "language": "python",
   "name": "python3"
  },
  "language_info": {
   "codemirror_mode": {
    "name": "ipython",
    "version": 3
   },
   "file_extension": ".py",
   "mimetype": "text/x-python",
   "name": "python",
   "nbconvert_exporter": "python",
   "pygments_lexer": "ipython3",
   "version": "3.9.12"
  },
  "orig_nbformat": 4
 },
 "nbformat": 4,
 "nbformat_minor": 2
}
