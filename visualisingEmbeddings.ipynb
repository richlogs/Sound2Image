{
 "cells": [
  {
   "cell_type": "code",
   "execution_count": 2,
   "metadata": {},
   "outputs": [],
   "source": [
    "import torch \n",
    "from sklearn.manifold import TSNE\n",
    "import os\n",
    "import pandas as pd\n",
    "import numpy as np\n",
    "from sklearn.decomposition import PCA\n",
    "import seaborn as sns"
   ]
  },
  {
   "cell_type": "code",
   "execution_count": 2,
   "metadata": {},
   "outputs": [],
   "source": [
    "embeddingDir = \"Embeddings/audio/subURMPClean/train/\"\n",
    "embeddingFiles = os.listdir(embeddingDir)\n",
    "embeddingFiles.sort()"
   ]
  },
  {
   "cell_type": "code",
   "execution_count": 3,
   "metadata": {},
   "outputs": [],
   "source": [
    "embeddings = torch.load(f\"{embeddingDir}/{embeddingFiles[0]}\")\n",
    "index = np.full((embeddings.shape[0], 1),0)\n",
    "\n",
    "for i, file in enumerate(embeddingFiles[1:]):\n",
    "    i += 1\n",
    "    emb = torch.load(f\"{embeddingDir}/{file}\")\n",
    "    idx = np.full((emb.shape[0],1), i)\n",
    "    \n",
    "    embeddings = torch.cat([embeddings, emb])\n",
    "    index = np.concatenate([index, idx])\n",
    "    \n",
    "embeddingsTbl = pd.DataFrame(embeddings)\n",
    "embeddingsTbl['index'] = index\n",
    "embeddingsNumeric = embeddingsTbl.drop('index', axis=1)\n"
   ]
  },
  {
   "cell_type": "code",
   "execution_count": 84,
   "metadata": {},
   "outputs": [],
   "source": [
    "pca = PCA(n_components=3)\n",
    "pca.fit(embeddingsNumeric)\n",
    "pcaFeatures = pca.fit_transform(embeddingsNumeric)"
   ]
  },
  {
   "cell_type": "code",
   "execution_count": 85,
   "metadata": {},
   "outputs": [],
   "source": [
    "pca = PCA(n_components=3)\n",
    "pca.fit(embeddingsNumeric)\n",
    "pcaFeatures = pca.fit_transform(embeddingsNumeric)\n",
    "\n",
    "pcaDF = pd.DataFrame(\n",
    "    data=pcaFeatures,\n",
    "    columns=['PC1','PC2','PC3']\n",
    ")\n",
    "\n",
    "pcaDF['index'] = index\n",
    "\n",
    "import plotly.express as px\n",
    "\n",
    "fig = px.scatter_3d(pcaDF, x=\"PC1\", y=\"PC2\", z=\"PC3\", color=\"index\")\n",
    "\n"
   ]
  },
  {
   "cell_type": "code",
   "execution_count": 4,
   "metadata": {},
   "outputs": [
    {
     "name": "stderr",
     "output_type": "stream",
     "text": [
      "/Users/richardkyle/opt/anaconda3/lib/python3.9/site-packages/sklearn/manifold/_t_sne.py:780: FutureWarning: The default initialization in TSNE will change from 'random' to 'pca' in 1.2.\n",
      "  warnings.warn(\n"
     ]
    }
   ],
   "source": [
    "model = TSNE(learning_rate=50)\n",
    "tsneFeatures = model.fit_transform(embeddingsNumeric)"
   ]
  },
  {
   "cell_type": "code",
   "execution_count": 10,
   "metadata": {},
   "outputs": [],
   "source": [
    "tsneDF = pd.DataFrame(\n",
    "    data=tsneFeatures,\n",
    "    columns=['PC1','PC2']\n",
    ")\n",
    "\n",
    "tsneDF['index'] = index\n",
    "\n"
   ]
  },
  {
   "cell_type": "code",
   "execution_count": 14,
   "metadata": {},
   "outputs": [
    {
     "data": {
      "text/html": [
       "<div>\n",
       "<style scoped>\n",
       "    .dataframe tbody tr th:only-of-type {\n",
       "        vertical-align: middle;\n",
       "    }\n",
       "\n",
       "    .dataframe tbody tr th {\n",
       "        vertical-align: top;\n",
       "    }\n",
       "\n",
       "    .dataframe thead th {\n",
       "        text-align: right;\n",
       "    }\n",
       "</style>\n",
       "<table border=\"1\" class=\"dataframe\">\n",
       "  <thead>\n",
       "    <tr style=\"text-align: right;\">\n",
       "      <th></th>\n",
       "      <th>PC1</th>\n",
       "      <th>PC2</th>\n",
       "      <th>index</th>\n",
       "    </tr>\n",
       "  </thead>\n",
       "  <tbody>\n",
       "    <tr>\n",
       "      <th>0</th>\n",
       "      <td>-5.409514</td>\n",
       "      <td>-11.575747</td>\n",
       "      <td>0</td>\n",
       "    </tr>\n",
       "    <tr>\n",
       "      <th>1</th>\n",
       "      <td>16.565939</td>\n",
       "      <td>11.736952</td>\n",
       "      <td>0</td>\n",
       "    </tr>\n",
       "    <tr>\n",
       "      <th>2</th>\n",
       "      <td>14.205696</td>\n",
       "      <td>9.386175</td>\n",
       "      <td>0</td>\n",
       "    </tr>\n",
       "    <tr>\n",
       "      <th>3</th>\n",
       "      <td>-20.277113</td>\n",
       "      <td>11.694847</td>\n",
       "      <td>0</td>\n",
       "    </tr>\n",
       "    <tr>\n",
       "      <th>4</th>\n",
       "      <td>-1.098423</td>\n",
       "      <td>-18.151791</td>\n",
       "      <td>0</td>\n",
       "    </tr>\n",
       "    <tr>\n",
       "      <th>...</th>\n",
       "      <td>...</td>\n",
       "      <td>...</td>\n",
       "      <td>...</td>\n",
       "    </tr>\n",
       "    <tr>\n",
       "      <th>1994</th>\n",
       "      <td>5.103877</td>\n",
       "      <td>0.250649</td>\n",
       "      <td>1</td>\n",
       "    </tr>\n",
       "    <tr>\n",
       "      <th>1995</th>\n",
       "      <td>5.748466</td>\n",
       "      <td>0.573970</td>\n",
       "      <td>1</td>\n",
       "    </tr>\n",
       "    <tr>\n",
       "      <th>1996</th>\n",
       "      <td>-1.380931</td>\n",
       "      <td>-7.419676</td>\n",
       "      <td>1</td>\n",
       "    </tr>\n",
       "    <tr>\n",
       "      <th>1997</th>\n",
       "      <td>17.431211</td>\n",
       "      <td>4.341280</td>\n",
       "      <td>1</td>\n",
       "    </tr>\n",
       "    <tr>\n",
       "      <th>1998</th>\n",
       "      <td>9.279732</td>\n",
       "      <td>4.267119</td>\n",
       "      <td>1</td>\n",
       "    </tr>\n",
       "  </tbody>\n",
       "</table>\n",
       "<p>1999 rows × 3 columns</p>\n",
       "</div>"
      ],
      "text/plain": [
       "            PC1        PC2  index\n",
       "0     -5.409514 -11.575747      0\n",
       "1     16.565939  11.736952      0\n",
       "2     14.205696   9.386175      0\n",
       "3    -20.277113  11.694847      0\n",
       "4     -1.098423 -18.151791      0\n",
       "...         ...        ...    ...\n",
       "1994   5.103877   0.250649      1\n",
       "1995   5.748466   0.573970      1\n",
       "1996  -1.380931  -7.419676      1\n",
       "1997  17.431211   4.341280      1\n",
       "1998   9.279732   4.267119      1\n",
       "\n",
       "[1999 rows x 3 columns]"
      ]
     },
     "execution_count": 14,
     "metadata": {},
     "output_type": "execute_result"
    }
   ],
   "source": [
    "tsneDF.iloc[:1999]"
   ]
  },
  {
   "cell_type": "code",
   "execution_count": 3,
   "metadata": {},
   "outputs": [
    {
     "ename": "NameError",
     "evalue": "name 'tsneDF' is not defined",
     "output_type": "error",
     "traceback": [
      "\u001b[0;31m---------------------------------------------------------------------------\u001b[0m",
      "\u001b[0;31mNameError\u001b[0m                                 Traceback (most recent call last)",
      "\u001b[1;32m/Users/richardkyle/Documents/University/current/AIML589/visualisingEmbeddings.ipynb Cell 9\u001b[0m in \u001b[0;36m<cell line: 1>\u001b[0;34m()\u001b[0m\n\u001b[0;32m----> <a href='vscode-notebook-cell:/Users/richardkyle/Documents/University/current/AIML589/visualisingEmbeddings.ipynb#X11sZmlsZQ%3D%3D?line=0'>1</a>\u001b[0m sns\u001b[39m.\u001b[39mscatterplot(data\u001b[39m=\u001b[39mtsneDF, x\u001b[39m=\u001b[39m\u001b[39m'\u001b[39m\u001b[39mPC1\u001b[39m\u001b[39m'\u001b[39m, y\u001b[39m=\u001b[39m\u001b[39m'\u001b[39m\u001b[39mPC2\u001b[39m\u001b[39m'\u001b[39m, hue\u001b[39m=\u001b[39m\u001b[39m'\u001b[39m\u001b[39mindex\u001b[39m\u001b[39m'\u001b[39m)\n",
      "\u001b[0;31mNameError\u001b[0m: name 'tsneDF' is not defined"
     ]
    }
   ],
   "source": [
    "sns.scatterplot(data=tsneDF, x='PC1', y='PC2', hue='index')"
   ]
  }
 ],
 "metadata": {
  "kernelspec": {
   "display_name": "base",
   "language": "python",
   "name": "python3"
  },
  "language_info": {
   "codemirror_mode": {
    "name": "ipython",
    "version": 3
   },
   "file_extension": ".py",
   "mimetype": "text/x-python",
   "name": "python",
   "nbconvert_exporter": "python",
   "pygments_lexer": "ipython3",
   "version": "3.9.12"
  },
  "orig_nbformat": 4
 },
 "nbformat": 4,
 "nbformat_minor": 2
}
